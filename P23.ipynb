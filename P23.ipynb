{
  "nbformat": 4,
  "nbformat_minor": 0,
  "metadata": {
    "colab": {
      "provenance": [],
      "authorship_tag": "ABX9TyPDctzz4WyOsN+IQJpAYBGt",
      "include_colab_link": true
    },
    "kernelspec": {
      "name": "python3",
      "display_name": "Python 3"
    },
    "language_info": {
      "name": "python"
    }
  },
  "cells": [
    {
      "cell_type": "markdown",
      "metadata": {
        "id": "view-in-github",
        "colab_type": "text"
      },
      "source": [
        "<a href=\"https://colab.research.google.com/github/Agna11/Kecerdasan-Buatan/blob/main/P23.ipynb\" target=\"_parent\"><img src=\"https://colab.research.google.com/assets/colab-badge.svg\" alt=\"Open In Colab\"/></a>"
      ]
    },
    {
      "cell_type": "markdown",
      "source": [
        "DFS"
      ],
      "metadata": {
        "id": "K2xoSKJDzWIL"
      }
    },
    {
      "cell_type": "code",
      "execution_count": null,
      "metadata": {
        "colab": {
          "base_uri": "https://localhost:8080/"
        },
        "id": "cFbSNt-zuwyy",
        "outputId": "0d487698-5401-4b50-c57d-e7e3594de2fc"
      },
      "outputs": [
        {
          "output_type": "stream",
          "name": "stdout",
          "text": [
            "Berikut adalah Penelusuran Depth First (dimulai dari node 2):\n",
            "2 0 1 3 "
          ]
        }
      ],
      "source": [
        "# Python3 program to print DFS traversal\n",
        "# from a given graph\n",
        "from collections import defaultdict\n",
        "\n",
        "# Kelas ini merepresentasikan sebuah graf yang diarahkan\n",
        "# menggunakan representasi daftar kejadian\n",
        "class Graph:\n",
        "\n",
        "    # Konstruktor\n",
        "    def __init__(self):\n",
        "        # Kamus default untuk menyimpan graf\n",
        "        self.graph = defaultdict(list)\n",
        "\n",
        "    # Fungsi untuk menambahkan tepi ke graf\n",
        "    def addEdge(self, u, v):\n",
        "        self.graph[u].append(v)\n",
        "\n",
        "    # Fungsi yang digunakan oleh DFS\n",
        "    def DFSUtil(self, v, visited):\n",
        "        # Tandai node saat ini sebagai sudah dikunjungi\n",
        "        # dan cetak\n",
        "        visited.add(v)\n",
        "        print(v, end=' ')\n",
        "\n",
        "        # Panggil rekursif untuk semua titik ujung\n",
        "        # yang berdekatan dengan titik ini\n",
        "        for neighbour in self.graph[v]:\n",
        "            if neighbour not in visited:\n",
        "                self.DFSUtil(neighbour, visited)\n",
        "\n",
        "    # Fungsi untuk melakukan penelusuran DFS. Ini menggunakan\n",
        "    # DFSUtil() rekursif\n",
        "    def DFS(self, v):\n",
        "        # Buat himpunan untuk menyimpan node yang sudah dikunjungi\n",
        "        visited = set()\n",
        "\n",
        "        # Panggil fungsi bantu rekursif\n",
        "        # untuk mencetak penelusuran DFS\n",
        "        self.DFSUtil(v, visited)\n",
        "\n",
        "\n",
        "# Kode pengguna\n",
        "if __name__ == \"__main__\":\n",
        "    g = Graph()\n",
        "    g.addEdge(0, 1)\n",
        "    g.addEdge(0, 2)\n",
        "    g.addEdge(1, 2)\n",
        "    g.addEdge(2, 0)\n",
        "    g.addEdge(2, 3)\n",
        "    g.addEdge(3, 3)\n",
        "\n",
        "    print(\"Berikut adalah Penelusuran Depth First (dimulai dari node 2):\")\n",
        "\n",
        "    # Panggilan fungsi\n",
        "    g.DFS(2)\n"
      ]
    },
    {
      "cell_type": "markdown",
      "source": [
        "BFS"
      ],
      "metadata": {
        "id": "N313kwvlxwMt"
      }
    },
    {
      "cell_type": "code",
      "source": [
        "# BFS algorithm in Python\n",
        "\n",
        "import collections\n",
        "\n",
        "# BFS algorithm\n",
        "def bfs(graph, root):\n",
        "    visited, queue = set(), collections.deque([root])\n",
        "    visited.add(root)\n",
        "\n",
        "    while queue:\n",
        "        # Dequeue a vertex from queue\n",
        "        vertex = queue.popleft()\n",
        "        print(str(vertex) + \" \", end=\"\")\n",
        "\n",
        "        # If not visited, mark it as visited, and enqueue it\n",
        "        for neighbour in graph[vertex]:\n",
        "            if neighbour not in visited:\n",
        "                visited.add(neighbour)\n",
        "                queue.append(neighbour)\n",
        "\n",
        "if __name__ == '__main__':\n",
        "    # Definisi graf dalam bentuk adjacency list\n",
        "    graph = {\n",
        "        0: [1, 2],\n",
        "        1: [2],\n",
        "        2: [0, 3],\n",
        "        3: [3]\n",
        "    }\n",
        "\n",
        "    print(\"Following is Breadth First Traversal: \")\n",
        "    bfs(graph, 0)\n"
      ],
      "metadata": {
        "colab": {
          "base_uri": "https://localhost:8080/"
        },
        "id": "7vKSm_i6x8jM",
        "outputId": "7c765e2a-ee17-4182-b145-483260401a8e"
      },
      "execution_count": null,
      "outputs": [
        {
          "output_type": "stream",
          "name": "stdout",
          "text": [
            "Following is Breadth First Traversal: \n",
            "0 1 2 3 "
          ]
        }
      ]
    },
    {
      "cell_type": "markdown",
      "source": [
        "**UFS**"
      ],
      "metadata": {
        "id": "38tnw9sEz3P7"
      }
    },
    {
      "cell_type": "code",
      "source": [
        "# Python3 implementation of Uniform Cost Search\n",
        "\n",
        "# Returns the minimum cost in a vector (if there are multiple goal states)\n",
        "def uniform_cost_search(goal, start):\n",
        "    global graph, cost\n",
        "    answer = []\n",
        "\n",
        "    # Set answer list to a very high value initially\n",
        "    for i in range(len(goal)):\n",
        "        answer.append(10**8)\n",
        "\n",
        "    # Create a priority queue\n",
        "    queue = []\n",
        "\n",
        "    # Insert the starting index\n",
        "    queue.append([0, start])\n",
        "\n",
        "    # Map to store visited nodes\n",
        "    visited = {}\n",
        "\n",
        "    # Count\n",
        "    count = 0\n",
        "\n",
        "    # While the queue is not empty\n",
        "    while len(queue) > 0:\n",
        "        # Sort queue based on cost (lowest cost first)\n",
        "        queue = sorted(queue, reverse=True)\n",
        "        p = queue.pop()  # Get the element with lowest cost\n",
        "\n",
        "        # Get the original value\n",
        "        p[0] *= -1\n",
        "\n",
        "        # Check if the element is in goal list\n",
        "        if p[1] in goal:\n",
        "            index = goal.index(p[1])  # Get the position\n",
        "\n",
        "            # If this goal state is reached for the first time\n",
        "            if answer[index] == 10**8:\n",
        "                count += 1\n",
        "\n",
        "            # If the cost is less, update answer\n",
        "            if answer[index] > p[0]:\n",
        "                answer[index] = p[0]\n",
        "\n",
        "            # If all goal states are found, return answer\n",
        "            if count == len(goal):\n",
        "                return answer\n",
        "\n",
        "        # Process adjacent nodes\n",
        "        if p[1] not in visited:\n",
        "            for i in range(len(graph[p[1]])):\n",
        "                queue.append([(p[0] + cost[(p[1], graph[p[1]][i])]) * -1, graph[p[1]][i]])\n",
        "\n",
        "        # Mark node as visited\n",
        "        visited[p[1]] = 1\n",
        "\n",
        "    return answer\n",
        "\n",
        "# Main function\n",
        "if __name__ == '__main__':\n",
        "    # Create the graph\n",
        "    graph, cost = [[] for i in range(8)], {}\n",
        "\n",
        "    # Add edges\n",
        "    graph[0].append(1)\n",
        "    graph[0].append(3)\n",
        "    graph[3].append(1)\n",
        "    graph[3].append(6)\n",
        "    graph[3].append(4)\n",
        "    graph[1].append(6)\n",
        "    graph[4].append(2)\n",
        "    graph[4].append(5)\n",
        "    graph[2].append(1)\n",
        "    graph[5].append(2)\n",
        "    graph[5].append(6)\n",
        "    graph[6].append(4)\n",
        "\n",
        "    # Add costs\n",
        "    cost[(0, 1)] = 2\n",
        "    cost[(0, 3)] = 5\n",
        "    cost[(1, 6)] = 1\n",
        "    cost[(3, 1)] = 5\n",
        "    cost[(3, 6)] = 6\n",
        "    cost[(3, 4)] = 2\n",
        "    cost[(2, 1)] = 4\n",
        "    cost[(4, 2)] = 4\n",
        "    cost[(4, 5)] = 3\n",
        "    cost[(5, 2)] = 6\n",
        "    cost[(5, 6)] = 3\n",
        "    cost[(6, 4)] = 7\n",
        "\n",
        "    # Define goal states\n",
        "    goal = [6]  # Can have multiple goal states\n",
        "\n",
        "    # Get the answer\n",
        "    answer = uniform_cost_search(goal, 0)\n",
        "\n",
        "    # Print the answer\n",
        "    print(\"Minimum cost from 0 to 6 is\", answer[0])\n"
      ],
      "metadata": {
        "colab": {
          "base_uri": "https://localhost:8080/"
        },
        "id": "c3O1xZxl0D2S",
        "outputId": "8846318f-33dd-4fe5-8443-bba859c97a30"
      },
      "execution_count": null,
      "outputs": [
        {
          "output_type": "stream",
          "name": "stdout",
          "text": [
            "Minimum cost from 0 to 6 is 11\n"
          ]
        }
      ]
    },
    {
      "cell_type": "markdown",
      "source": [
        "**Greedy**"
      ],
      "metadata": {
        "id": "baGOkhj94bvd"
      }
    },
    {
      "cell_type": "code",
      "source": [
        "from queue import PriorityQueue\n",
        "\n",
        "# Fungsi untuk algoritma Greedy Search\n",
        "def greedy_search(graph, start, goal):\n",
        "    frontier = PriorityQueue()  # Antrian prioritas untuk menyimpan simpul yang akan dieksplorasi\n",
        "    frontier.put((heuristic[start], start))  # Menambahkan simpul awal ke dalam antrian dengan nilai prioritas heuristiknya\n",
        "    explored = set()  # Set untuk menyimpan simpul yang sudah dieksplorasi\n",
        "    path = {}\n",
        "\n",
        "    while not frontier.empty():\n",
        "        current_priority, current = frontier.get()  # Ambil simpul dengan prioritas terendah\n",
        "\n",
        "        if current == goal:\n",
        "            print(\"Simpul tujuan sudah ditemukan!\")\n",
        "            route = reconstruct_path(path, start, goal)\n",
        "            print(\"Jalur terpendek:\", route)\n",
        "            return True\n",
        "\n",
        "        explored.add(current)  # Menandai simpul saat ini sebagai sudah dieksplorasi\n",
        "\n",
        "        for neighbor in graph[current]:\n",
        "            if neighbor not in explored:\n",
        "                priority = heuristic[neighbor]  # Menggunakan nilai heuristik untuk menentukan prioritas\n",
        "                frontier.put((priority, neighbor))  # Menambahkan simpul tetangga ke dalam antrian dengan nilai prioritas heuristik\n",
        "                path[neighbor] = current\n",
        "\n",
        "    print(\"Simpul tujuan tidak ditemukan!\")\n",
        "    return False  # Mengembalikan False jika simpul tujuan tidak ditemukan\n",
        "\n",
        "def reconstruct_path(path, start, goal):\n",
        "    current = goal\n",
        "    route = [current]\n",
        "    while current != start:\n",
        "        current = path[current]  # Perbaikan penamaan variabel dari 'curent' menjadi 'current'\n",
        "        route.append(current)\n",
        "    route.reverse()\n",
        "    return route\n",
        "\n",
        "# Daftar heuristik untuk setiap simpul\n",
        "heuristic = {\n",
        "    'A': 4,\n",
        "    'B': 3,\n",
        "    'C': 3,\n",
        "    'D': 1,\n",
        "    'S': 6,\n",
        "    'G': 0\n",
        "}\n",
        "\n",
        "# Graf (dalam bentuk daftar kejadian)\n",
        "graph = {\n",
        "    'S': ['A', 'B'],\n",
        "    'A': ['B', 'D'],\n",
        "    'B': ['C', 'D'],\n",
        "    'C': ['D', 'G'],\n",
        "    'D': ['G'],\n",
        "\n",
        "}\n",
        "\n",
        "# Titik awal dan tujuan\n",
        "start_node = 'S'\n",
        "goal_node = 'G'\n",
        "\n",
        "# Panggil fungsi greedy search\n",
        "greedy_search(graph, start_node, goal_node)"
      ],
      "metadata": {
        "colab": {
          "base_uri": "https://localhost:8080/"
        },
        "id": "vQA17i504j7s",
        "outputId": "e39deef0-2325-4125-eafe-e153812a6144"
      },
      "execution_count": 6,
      "outputs": [
        {
          "output_type": "stream",
          "name": "stdout",
          "text": [
            "Simpul tujuan sudah ditemukan!\n",
            "Jalur terpendek: ['S', 'B', 'D', 'G']\n"
          ]
        },
        {
          "output_type": "execute_result",
          "data": {
            "text/plain": [
              "True"
            ]
          },
          "metadata": {},
          "execution_count": 6
        }
      ]
    },
    {
      "cell_type": "markdown",
      "source": [
        "A Tree Search*"
      ],
      "metadata": {
        "id": "BjugNv_ukNp_"
      }
    },
    {
      "cell_type": "code",
      "source": [
        "from queue import PriorityQueue\n",
        "\n",
        "# Fungsi untuk algoritma A* Search\n",
        "def a_star_search(graph, start, goal):\n",
        "    frontier = PriorityQueue()  # Antrian prioritas untuk menyimpan simpul yang akan dieksplorasi\n",
        "    frontier.put((0 + heuristic[start], start))  # Menambahkan simpul awal ke dalam antrian dengan nilai f(n)\n",
        "\n",
        "    explored = set()  # Set untuk menyimpan simpul yang sudah dieksplorasi\n",
        "    path = {}  # Untuk menyimpan jalur yang dilalui\n",
        "    g_cost = {start: 0}  # Biaya dari start ke setiap simpul\n",
        "\n",
        "    while not frontier.empty():\n",
        "        current_f_cost, current = frontier.get()  # Ambil simpul dengan f(n) terendah\n",
        "\n",
        "        if current == goal:\n",
        "            print(\"Simpul tujuan sudah ditemukan!\")\n",
        "            route = reconstruct_path(path, start, goal)\n",
        "            print(\"Jalur terpendek:\", route)\n",
        "            return True\n",
        "\n",
        "        explored.add(current)  # Menandai simpul saat ini sebagai sudah dieksplorasi\n",
        "\n",
        "        for neighbor in graph[current]:\n",
        "            tentative_g_cost = g_cost[current] + 1  # Menghitung biaya sementara (misal semua edge memiliki biaya 1)\n",
        "\n",
        "            # Jika neighbor belum dieksplorasi atau biaya baru lebih rendah\n",
        "            if neighbor not in explored or tentative_g_cost < g_cost.get(neighbor, float('inf')):\n",
        "                g_cost[neighbor] = tentative_g_cost  # Update biaya g(n)\n",
        "                f_cost = tentative_g_cost + heuristic[neighbor]  # Hitung f(n)\n",
        "                frontier.put((f_cost, neighbor))  # Menambahkan neighbor ke dalam antrian dengan nilai f(n)\n",
        "                path[neighbor] = current  # Simpan jalur\n",
        "\n",
        "    print(\"Simpul tujuan tidak ditemukan!\")\n",
        "    return False  # Mengembalikan False jika simpul tujuan tidak ditemukan\n",
        "\n",
        "def reconstruct_path(path, start, goal):\n",
        "    current = goal\n",
        "    route = [current]\n",
        "    while current != start:\n",
        "        current = path[current]\n",
        "        route.append(current)\n",
        "    route.reverse()\n",
        "    return route\n",
        "\n",
        "# Daftar heuristik untuk setiap simpul\n",
        "heuristic = {\n",
        "    'A': 4,\n",
        "    'B': 3,\n",
        "    'C': 3,\n",
        "    'D': 1,\n",
        "    'S': 6,\n",
        "    'G': 0\n",
        "}\n",
        "\n",
        "# Graf (dalam bentuk daftar kejadian)\n",
        "graph = {\n",
        "    'S': ['B', 'A'],\n",
        "    'A': ['B', 'D'],\n",
        "    'B': ['C', 'D'],\n",
        "    'C': ['D', 'G'],\n",
        "    'D': ['G'],\n",
        "}\n",
        "\n",
        "# Titik awal dan tujuan\n",
        "start_node = 'S'\n",
        "goal_node = 'G'\n",
        "\n",
        "# Panggil fungsi A* search\n",
        "a_star_search(graph, start_node, goal_node)"
      ],
      "metadata": {
        "colab": {
          "base_uri": "https://localhost:8080/"
        },
        "id": "ySHUMmvnkb_7",
        "outputId": "c2fb1f0b-6687-4943-e446-8edc9fc5fcab"
      },
      "execution_count": 5,
      "outputs": [
        {
          "output_type": "stream",
          "name": "stdout",
          "text": [
            "Simpul tujuan sudah ditemukan!\n",
            "Jalur terpendek: ['S', 'B', 'D', 'G']\n"
          ]
        },
        {
          "output_type": "execute_result",
          "data": {
            "text/plain": [
              "True"
            ]
          },
          "metadata": {},
          "execution_count": 5
        }
      ]
    },
    {
      "cell_type": "markdown",
      "source": [
        "A Graph search*"
      ],
      "metadata": {
        "id": "5sO3D596mYbl"
      }
    },
    {
      "cell_type": "code",
      "source": [
        "from queue import PriorityQueue\n",
        "\n",
        "# Fungsi untuk algoritma A* Graph Search\n",
        "def a_star_search(graph, start, goal, heuristic):\n",
        "    frontier = PriorityQueue()  # Antrian prioritas untuk menyimpan simpul yang akan dieksplorasi\n",
        "    frontier.put((0, start))  # Menambahkan simpul awal ke dalam antrian dengan nilai prioritas 0\n",
        "    explored = set()  # Set untuk menyimpan simpul yang sudah dieksplorasi\n",
        "    path = {}\n",
        "\n",
        "    while not frontier.empty():\n",
        "        current_priority, current = frontier.get()  # Ambil simpul dengan prioritas terendah\n",
        "\n",
        "        if current == goal:\n",
        "            print(\"Simpul tujuan sudah ditemukan!\")\n",
        "            route = reconstruct_path(path, start, goal)\n",
        "            print(\"Jalur terpendek:\", route)\n",
        "            return True\n",
        "\n",
        "        explored.add(current)  # Menandai simpul saat ini sebagai sudah dieksplorasi\n",
        "\n",
        "        for neighbor in graph[current]:\n",
        "            if neighbor not in explored:\n",
        "                priority = heuristic[neighbor]  # Menggunakan nilai heuristik untuk menentukan prioritas\n",
        "                frontier.put((priority, neighbor))  # Menambahkan simpul tetangga ke dalam antrian dengan nilai prioritas heuristik\n",
        "                path[neighbor] = current\n",
        "\n",
        "    print(\"Simpul tujuan tidak ditemukan!\")\n",
        "    return False  # Mengembalikan False jika simpul tujuan tidak ditemukan\n",
        "\n",
        "def reconstruct_path(path, start, goal):\n",
        "    current = goal\n",
        "    route = [current]\n",
        "    while current != start:\n",
        "        current = path[current]  # Perbaikan penamaan variabel dari 'curent' menjadi 'current'\n",
        "        route.append(current)\n",
        "    route.reverse()\n",
        "    return route\n",
        "\n",
        "\n",
        "\n",
        "# Daftar heuristik untuk setiap simpul\n",
        "heuristic = {\n",
        "    'A': 4,\n",
        "    'B': 3,\n",
        "    'C': 3,\n",
        "    'D': 1,\n",
        "    'S': 6,\n",
        "    'G': 0\n",
        "}\n",
        "\n",
        "# Graf (dalam bentuk daftar kejadian)\n",
        "graph = {\n",
        "    'S': {'B': 2, 'A': 3},\n",
        "    'A': {'B': 1, 'D': 5},\n",
        "    'B': {'C': 2, 'D': 3},\n",
        "    'C': {'D': 3, 'G': 4},\n",
        "    'D': {'G': 1},\n",
        "\n",
        "}\n",
        "\n",
        "# Titik awal dan tujuan\n",
        "start_node = 'S'\n",
        "goal_node = 'G'\n",
        "\n",
        "# Panggil fungsi a_star_search\n",
        "a_star_search(graph, start_node, goal_node, heuristic)"
      ],
      "metadata": {
        "colab": {
          "base_uri": "https://localhost:8080/"
        },
        "id": "47iUtI6Lmk1G",
        "outputId": "1677eacb-dbfd-4bd1-9e22-1822d9ac53d3"
      },
      "execution_count": 4,
      "outputs": [
        {
          "output_type": "stream",
          "name": "stdout",
          "text": [
            "Simpul tujuan sudah ditemukan!\n",
            "Jalur terpendek: ['S', 'B', 'D', 'G']\n"
          ]
        },
        {
          "output_type": "execute_result",
          "data": {
            "text/plain": [
              "True"
            ]
          },
          "metadata": {},
          "execution_count": 4
        }
      ]
    }
  ]
}